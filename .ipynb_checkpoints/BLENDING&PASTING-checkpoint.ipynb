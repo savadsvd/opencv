{
 "cells": [
  {
   "cell_type": "markdown",
   "id": "346cc7d1",
   "metadata": {},
   "source": [
    "### BLENDING"
   ]
  },
  {
   "cell_type": "code",
   "execution_count": 1,
   "id": "85612520",
   "metadata": {},
   "outputs": [],
   "source": [
    "import cv2"
   ]
  },
  {
   "cell_type": "code",
   "execution_count": 2,
   "id": "a8e5747a",
   "metadata": {},
   "outputs": [],
   "source": [
    "img1=cv2.imread(r'C:\\Users\\Lenovo\\Downloads\\img2.jpg')\n",
    "img2=cv2.imread(r'C:\\Users\\Lenovo\\Downloads\\flower.jpg')"
   ]
  },
  {
   "cell_type": "code",
   "execution_count": 43,
   "id": "4dbb95e8",
   "metadata": {},
   "outputs": [
    {
     "name": "stdout",
     "output_type": "stream",
     "text": [
      "(768, 1024, 3)\n",
      "(475, 600, 3)\n"
     ]
    }
   ],
   "source": [
    "print(img1.shape)\n",
    "print(img2.shape)"
   ]
  },
  {
   "cell_type": "code",
   "execution_count": 44,
   "id": "d4971c59",
   "metadata": {},
   "outputs": [],
   "source": [
    "img1_resize=cv2.resize(img1,(400,600))\n",
    "img2_resize=cv2.resize(img2,(400,600))\n",
    "cv2.imshow('flwr2',img1_resize)\n",
    "cv2.imshow('flower',img2_resize)\n",
    "cv2.waitKey(0)\n",
    "cv2.destroyAllWindows()"
   ]
  },
  {
   "cell_type": "code",
   "execution_count": 45,
   "id": "59b99ed2",
   "metadata": {},
   "outputs": [],
   "source": [
    "blended=cv2.addWeighted(img2_resize,0.5,img1_resize,0.75,0)\n",
    "cv2.imshow('blended',blended)\n",
    "cv2.waitKey(0)\n",
    "cv2.destroyAllWindows()"
   ]
  },
  {
   "cell_type": "markdown",
   "id": "57a75e48",
   "metadata": {},
   "source": [
    "### PASTING"
   ]
  },
  {
   "cell_type": "code",
   "execution_count": 3,
   "id": "cfbe9fce",
   "metadata": {},
   "outputs": [],
   "source": [
    "large_image=cv2.resize(img1,(600,600))\n",
    "small_image=cv2.resize(img2,(200,200))\n",
    "cv2.imshow('flwr',large_image)\n",
    "cv2.imshow('flower',small_image)\n",
    "cv2.waitKey(0)\n",
    "cv2.destroyAllWindows()"
   ]
  },
  {
   "cell_type": "code",
   "execution_count": 4,
   "id": "4ca28705",
   "metadata": {},
   "outputs": [
    {
     "data": {
      "text/plain": [
       "(600, 600, 3)"
      ]
     },
     "execution_count": 4,
     "metadata": {},
     "output_type": "execute_result"
    }
   ],
   "source": [
    "large_image.shape"
   ]
  },
  {
   "cell_type": "code",
   "execution_count": 5,
   "id": "3f54fc48",
   "metadata": {},
   "outputs": [
    {
     "data": {
      "text/plain": [
       "(200, 200, 3)"
      ]
     },
     "execution_count": 5,
     "metadata": {},
     "output_type": "execute_result"
    }
   ],
   "source": [
    "small_image.shape"
   ]
  },
  {
   "cell_type": "code",
   "execution_count": 6,
   "id": "7f0bc5e5",
   "metadata": {},
   "outputs": [],
   "source": [
    "x_offset=400\n",
    "y_offset=0\n",
    "\n",
    "x_end=x_offset+small_image.shape[1]\n",
    "y_end=y_offset+small_image.shape[0]\n",
    "\n",
    "large_image[y_offset:y_end,x_offset:x_end]=small_image\n",
    "cv2.imshow('image',large_image)\n",
    "cv2.waitKey(0)\n",
    "cv2.destroyAllWindows()"
   ]
  },
  {
   "cell_type": "markdown",
   "id": "b7c699e2",
   "metadata": {},
   "source": [
    "### drawing function in opencv"
   ]
  },
  {
   "cell_type": "markdown",
   "id": "7a04cf79",
   "metadata": {},
   "source": [
    "#### line"
   ]
  },
  {
   "cell_type": "code",
   "execution_count": 13,
   "id": "cf8027a1",
   "metadata": {},
   "outputs": [],
   "source": [
    "import numpy as np\n",
    "import matplotlib.pyplot as plt\n",
    "image=np.zeros([512,512,3],np.uint8)   #unsigned integer 8 bit\n",
    "image.fill(255)\n",
    "#cv2.line(image,(starting pont),(ending point),(color),thickness)\n",
    "line=cv2.line(image,(0,0),(512,512),(200,150,250),2)\n",
    "cv2.imshow('line_img',line)\n",
    "cv2.waitKey(0)\n",
    "cv2.destroyAllWindows()"
   ]
  },
  {
   "cell_type": "markdown",
   "id": "c5f044a3",
   "metadata": {},
   "source": [
    "#### rectangle"
   ]
  },
  {
   "cell_type": "code",
   "execution_count": null,
   "id": "cb31d512",
   "metadata": {},
   "outputs": [],
   "source": [
    "rect=cv2.rectangle(image,(100,20),(150,200),(0,255,0),4)\n",
    "cv2.imshow('rect_img',rect)\n",
    "cv2.waitKey(0)\n",
    "cv2."
   ]
  }
 ],
 "metadata": {
  "kernelspec": {
   "display_name": "Python 3 (ipykernel)",
   "language": "python",
   "name": "python3"
  },
  "language_info": {
   "codemirror_mode": {
    "name": "ipython",
    "version": 3
   },
   "file_extension": ".py",
   "mimetype": "text/x-python",
   "name": "python",
   "nbconvert_exporter": "python",
   "pygments_lexer": "ipython3",
   "version": "3.9.7"
  }
 },
 "nbformat": 4,
 "nbformat_minor": 5
}
