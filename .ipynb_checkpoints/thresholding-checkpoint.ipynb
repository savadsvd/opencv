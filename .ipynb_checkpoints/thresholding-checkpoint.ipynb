{
 "cells": [
  {
   "cell_type": "code",
   "execution_count": 1,
   "id": "6b229680",
   "metadata": {},
   "outputs": [],
   "source": [
    "import cv2"
   ]
  },
  {
   "cell_type": "code",
   "execution_count": 36,
   "id": "9fb1193d",
   "metadata": {},
   "outputs": [],
   "source": [
    "image=cv2.imread(r'C:\\Users\\Lenovo\\Downloads\\flower.jpg',0)\n",
    "cv2.imshow('image',image)\n",
    "cv2.waitKey(0)\n",
    "cv2.destroyAllWindows()"
   ]
  },
  {
   "cell_type": "markdown",
   "id": "82d40f03",
   "metadata": {},
   "source": [
    "### simple binary"
   ]
  },
  {
   "cell_type": "code",
   "execution_count": 37,
   "id": "fcf3c947",
   "metadata": {},
   "outputs": [
    {
     "data": {
      "text/plain": [
       "120.0"
      ]
     },
     "execution_count": 37,
     "metadata": {},
     "output_type": "execute_result"
    }
   ],
   "source": [
    "#cv2.threshold(image,threshold,max_value,technique)\n",
    "ret,thresh=cv2.threshold(image,120,255,cv2.THRESH_BINARY)\n",
    "cv2.imshow('binary_thres',thresh)\n",
    "cv2.waitKey(0)\n",
    "cv2.destroyAllWindows()\n",
    "ret"
   ]
  },
  {
   "cell_type": "markdown",
   "id": "111a02ea",
   "metadata": {},
   "source": [
    "### binary inversion"
   ]
  },
  {
   "cell_type": "code",
   "execution_count": 38,
   "id": "af0d4b34",
   "metadata": {},
   "outputs": [
    {
     "data": {
      "text/plain": [
       "100.0"
      ]
     },
     "execution_count": 38,
     "metadata": {},
     "output_type": "execute_result"
    }
   ],
   "source": [
    "ret,thresh=cv2.threshold(image,100,255,cv2.THRESH_BINARY_INV)\n",
    "cv2.imshow('binary_inv_thres',thresh)\n",
    "cv2.waitKey(0)\n",
    "cv2.destroyAllWindows()\n",
    "ret"
   ]
  },
  {
   "cell_type": "markdown",
   "id": "e2955065",
   "metadata": {},
   "source": [
    "### truncate"
   ]
  },
  {
   "cell_type": "code",
   "execution_count": 44,
   "id": "40c43b18",
   "metadata": {},
   "outputs": [
    {
     "data": {
      "text/plain": [
       "170.0"
      ]
     },
     "execution_count": 44,
     "metadata": {},
     "output_type": "execute_result"
    }
   ],
   "source": [
    "ret,thresh=cv2.threshold(image,170,255,cv2.THRESH_TRUNC)\n",
    "cv2.imshow('trunk_thres',thresh)\n",
    "cv2.waitKey(0)\n",
    "cv2.destroyAllWindows()\n",
    "ret"
   ]
  },
  {
   "cell_type": "markdown",
   "id": "46de5175",
   "metadata": {},
   "source": [
    "### to zero"
   ]
  },
  {
   "cell_type": "code",
   "execution_count": 45,
   "id": "e5421997",
   "metadata": {},
   "outputs": [
    {
     "data": {
      "text/plain": [
       "130.0"
      ]
     },
     "execution_count": 45,
     "metadata": {},
     "output_type": "execute_result"
    }
   ],
   "source": [
    "ret,thresh=cv2.threshold(image,130,255,cv2.THRESH_TOZERO)\n",
    "cv2.imshow('tozero_thres',thresh)\n",
    "cv2.waitKey(0)\n",
    "cv2.destroyAllWindows()\n",
    "ret"
   ]
  },
  {
   "cell_type": "markdown",
   "id": "55d93f1d",
   "metadata": {},
   "source": [
    "### to zero invert"
   ]
  },
  {
   "cell_type": "code",
   "execution_count": 47,
   "id": "cd3667a0",
   "metadata": {},
   "outputs": [
    {
     "data": {
      "text/plain": [
       "120.0"
      ]
     },
     "execution_count": 47,
     "metadata": {},
     "output_type": "execute_result"
    }
   ],
   "source": [
    "ret,thresh=cv2.threshold(image,120,255,cv2.THRESH_TOZERO_INV)\n",
    "cv2.imshow('tozero_inv_thres',thresh)\n",
    "cv2.waitKey(0)\n",
    "cv2.destroyAllWindows()\n",
    "ret"
   ]
  },
  {
   "cell_type": "code",
   "execution_count": null,
   "id": "a1a3ec15",
   "metadata": {},
   "outputs": [],
   "source": []
  }
 ],
 "metadata": {
  "kernelspec": {
   "display_name": "Python 3 (ipykernel)",
   "language": "python",
   "name": "python3"
  },
  "language_info": {
   "codemirror_mode": {
    "name": "ipython",
    "version": 3
   },
   "file_extension": ".py",
   "mimetype": "text/x-python",
   "name": "python",
   "nbconvert_exporter": "python",
   "pygments_lexer": "ipython3",
   "version": "3.9.7"
  }
 },
 "nbformat": 4,
 "nbformat_minor": 5
}
