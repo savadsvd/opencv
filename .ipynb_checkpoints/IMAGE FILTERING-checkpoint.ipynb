{
 "cells": [
  {
   "cell_type": "code",
   "execution_count": 2,
   "id": "53e245ba",
   "metadata": {},
   "outputs": [],
   "source": [
    "import cv2\n",
    "import numpy as np"
   ]
  },
  {
   "cell_type": "code",
   "execution_count": 2,
   "id": "31c25e0e",
   "metadata": {},
   "outputs": [],
   "source": [
    "img=cv2.imread('noisy1.png')\n",
    "img=cv2.resize(img,(400,400))\n",
    "cv2.imshow('new_img',img)\n",
    "cv2.waitKey(0)\n",
    "cv2.destroyAllWindows()"
   ]
  },
  {
   "cell_type": "markdown",
   "id": "b85e1e8f",
   "metadata": {},
   "source": [
    "### smoothing filters"
   ]
  },
  {
   "cell_type": "markdown",
   "id": "7bcf73f8",
   "metadata": {},
   "source": [
    "averaging filter\n",
    "\n",
    ".cv2.blur(image,kernal_size)\n",
    "\n",
    ".cv2.boxfilter(image,output_image_depth,kernal_size)\n",
    "\n",
    "output_image_filter=-1=same image depth as input"
   ]
  },
  {
   "cell_type": "code",
   "execution_count": 5,
   "id": "14ce787b",
   "metadata": {},
   "outputs": [],
   "source": [
    "#blur filter\n",
    "blur_img=cv2.blur(img,(7,7))\n",
    "#box filter\n",
    "box_img=cv2.boxFilter(img,-1,(7,7))\n",
    "cv2.imshow('img',img)\n",
    "cv2.imshow('image',np.hstack((blur_img,box_img)))\n",
    "cv2.waitKey(0)\n",
    "cv2.destroyAllWindows()"
   ]
  },
  {
   "cell_type": "markdown",
   "id": "9d63ec1e",
   "metadata": {},
   "source": [
    "### Gassian filter"
   ]
  },
  {
   "cell_type": "markdown",
   "id": "0f3ecdae",
   "metadata": {},
   "source": [
    "cv2.Gassianblur(image,kernal_size,sigmaX,sigmaY)"
   ]
  },
  {
   "cell_type": "code",
   "execution_count": null,
   "id": "b389c515",
   "metadata": {},
   "outputs": [],
   "source": [
    "#sigmaX and sigmaY are the standard deviations in the x and y directions\n",
    "#given 0,the stdev will be calculated from the kernal size\n",
    "#0nly one of them needs to be specified.both will bw then taken as 0\n",
    "#lower the value of sigma more importence will bw given \n",
    " "
   ]
  },
  {
   "cell_type": "code",
   "execution_count": 6,
   "id": "23b64536",
   "metadata": {},
   "outputs": [],
   "source": [
    "guss_img=cv2.GaussianBlur(img,(5,5),150,150)\n",
    "cv2.imshow('guass_img',np.hstack((img,guss_img)))\n",
    "cv2.waitKey(0)\n",
    "cv2.destroyAllWindows()"
   ]
  },
  {
   "cell_type": "markdown",
   "id": "cbaa44c0",
   "metadata": {},
   "source": [
    "### median filter"
   ]
  },
  {
   "cell_type": "code",
   "execution_count": 7,
   "id": "a178119c",
   "metadata": {},
   "outputs": [],
   "source": [
    "#cv2.medianBlur(image,keranal_size)\n",
    "image=cv2.imread('sp_img_gray_noise_heavy.png')\n",
    "med_img=cv2.medianBlur(image,5)\n",
    "cv2.imshow('median_image',np.hstack((image,med_img)))\n",
    "cv2.waitKey(0)\n",
    "cv2.destroyAllWindows()"
   ]
  },
  {
   "cell_type": "markdown",
   "id": "968a186f",
   "metadata": {},
   "source": [
    "### bilateral filter"
   ]
  },
  {
   "cell_type": "markdown",
   "id": "ff393d3c",
   "metadata": {},
   "source": [
    "sigma color:the greater the value,the colors farther to each other will start to get mixed\n",
    "    \n",
    "sigma space:the greater its value ,the more farther pixels will mix together as long as their colors are closer enough"
   ]
  },
  {
   "cell_type": "code",
   "execution_count": 13,
   "id": "01684c14",
   "metadata": {},
   "outputs": [],
   "source": [
    "#cv2.bilateralFilter(image,kernal_size,sigmacolor,sigmaspace)\n",
    "#sigma values >150 have higher effects on the image\n",
    "bi_img=cv2.bilateralFilter(img,7,250,250)\n",
    "cv2.imshow('bi_image',np.hstack((img,bi_img)))\n",
    "cv2.waitKey(0)\n",
    "cv2.destroyAllWindows()"
   ]
  },
  {
   "cell_type": "markdown",
   "id": "a2d02796",
   "metadata": {},
   "source": [
    "### sharpenng filters"
   ]
  },
  {
   "cell_type": "markdown",
   "id": "95c794dc",
   "metadata": {},
   "source": [
    "#### unsharp masking"
   ]
  },
  {
   "cell_type": "code",
   "execution_count": 33,
   "id": "f6c48154",
   "metadata": {},
   "outputs": [],
   "source": [
    "img=image=cv2.imread('fox_image.png')\n",
    "blurred=cv2.medianBlur(img,5)\n",
    "cv2.imshow('original',img)\n",
    "cv2.imshow('blurred',blurred)\n",
    "cv2.waitKey(0)\n",
    "cv2.destroyAllWindows()"
   ]
  },
  {
   "cell_type": "code",
   "execution_count": 34,
   "id": "ae8029a9",
   "metadata": {},
   "outputs": [],
   "source": [
    "#img-blurred+img\n",
    "#2*img-blurred\n",
    "sharpened=cv2.addWeighted(img,2,blurred,-1,0)\n",
    "cv2.imshow('original',img)\n",
    "cv2.imshow('sharpened',sharpened)\n",
    "cv2.waitKey(0)\n",
    "cv2.destroyAllWindows()"
   ]
  },
  {
   "cell_type": "markdown",
   "id": "b4a5f5a3",
   "metadata": {},
   "source": [
    "#### high boost filtering"
   ]
  },
  {
   "cell_type": "code",
   "execution_count": 35,
   "id": "0f813a26",
   "metadata": {},
   "outputs": [],
   "source": [
    "sharpened=cv2.addWeighted(img,2,blurred,-1.25,0)\n",
    "cv2.imshow('original',img)\n",
    "cv2.imshow('sharpened',sharpened)\n",
    "cv2.waitKey(0)\n",
    "cv2.destroyAllWindows()"
   ]
  },
  {
   "cell_type": "markdown",
   "id": "a5ba314f",
   "metadata": {},
   "source": [
    "### morphological operatins"
   ]
  },
  {
   "cell_type": "code",
   "execution_count": 3,
   "id": "8382de0d",
   "metadata": {},
   "outputs": [],
   "source": [
    "img=cv2.imread('morphology_binary.png')\n",
    "cv2.imshow('new',img)\n",
    "cv2.waitKey(0)\n",
    "cv2.destroyAllWindows()"
   ]
  },
  {
   "cell_type": "markdown",
   "id": "9d58b02a",
   "metadata": {},
   "source": [
    "#### erosion\n"
   ]
  },
  {
   "cell_type": "code",
   "execution_count": 5,
   "id": "db4f478a",
   "metadata": {},
   "outputs": [],
   "source": [
    "kernal=np.ones((5,5,),np.uint8)\n",
    "eroded_image=cv2.erode(img,kernal,iterations=5)\n",
    "cv2.imshow('og_pic',img)\n",
    "cv2.imshow('eroded_image',eroded_image)\n",
    "cv2.waitKey(0)\n",
    "cv2.destroyAllWindows()"
   ]
  },
  {
   "cell_type": "markdown",
   "id": "a23dd402",
   "metadata": {},
   "source": [
    "#### dilation"
   ]
  },
  {
   "cell_type": "code",
   "execution_count": 6,
   "id": "9357c68c",
   "metadata": {},
   "outputs": [],
   "source": [
    "kernal=np.ones((5,5,),np.uint8)\n",
    "eroded_image=cv2.dilate(img,kernal,iterations=5)\n",
    "cv2.imshow('og_pic',img)\n",
    "cv2.imshow('eroded_image',eroded_image)\n",
    "cv2.waitKey(0)\n",
    "cv2.destroyAllWindows()"
   ]
  },
  {
   "cell_type": "code",
   "execution_count": null,
   "id": "19e2adc3",
   "metadata": {},
   "outputs": [],
   "source": []
  }
 ],
 "metadata": {
  "kernelspec": {
   "display_name": "Python 3 (ipykernel)",
   "language": "python",
   "name": "python3"
  },
  "language_info": {
   "codemirror_mode": {
    "name": "ipython",
    "version": 3
   },
   "file_extension": ".py",
   "mimetype": "text/x-python",
   "name": "python",
   "nbconvert_exporter": "python",
   "pygments_lexer": "ipython3",
   "version": "3.9.7"
  }
 },
 "nbformat": 4,
 "nbformat_minor": 5
}
