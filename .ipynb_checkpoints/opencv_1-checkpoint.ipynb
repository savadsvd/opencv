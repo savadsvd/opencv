{
 "cells": [
  {
   "cell_type": "code",
   "execution_count": 1,
   "id": "ae5093e3",
   "metadata": {},
   "outputs": [
    {
     "name": "stdout",
     "output_type": "stream",
     "text": [
      "Requirement already satisfied: opencv-python in c:\\users\\lenovo\\anaconda3\\lib\\site-packages (4.6.0.66)Note: you may need to restart the kernel to use updated packages.\n",
      "Requirement already satisfied: numpy>=1.19.3 in c:\\users\\lenovo\\anaconda3\\lib\\site-packages (from opencv-python) (1.20.3)\n",
      "\n"
     ]
    }
   ],
   "source": [
    "#pip install opencv-python"
   ]
  },
  {
   "cell_type": "code",
   "execution_count": 2,
   "id": "fbd5e19b",
   "metadata": {},
   "outputs": [],
   "source": [
    "import cv2"
   ]
  },
  {
   "cell_type": "markdown",
   "id": "afbe2559",
   "metadata": {},
   "source": [
    "### Read,display and write"
   ]
  },
  {
   "cell_type": "code",
   "execution_count": 7,
   "id": "1dcdfb40",
   "metadata": {},
   "outputs": [],
   "source": [
    "image=cv2.imread(r'C:\\Users\\Lenovo\\Downloads\\flower.jpg')"
   ]
  },
  {
   "cell_type": "code",
   "execution_count": 8,
   "id": "080f053c",
   "metadata": {},
   "outputs": [
    {
     "data": {
      "text/plain": [
       "array([[[ 68,  92,  62],\n",
       "        [ 65,  89,  59],\n",
       "        [ 68,  92,  62],\n",
       "        ...,\n",
       "        [ 68,  42,  66],\n",
       "        [ 67,  39,  62],\n",
       "        [ 68,  40,  63]],\n",
       "\n",
       "       [[ 70,  94,  64],\n",
       "        [ 67,  91,  61],\n",
       "        [ 71,  95,  65],\n",
       "        ...,\n",
       "        [ 67,  41,  65],\n",
       "        [ 65,  39,  63],\n",
       "        [ 66,  40,  63]],\n",
       "\n",
       "       [[ 65,  87,  58],\n",
       "        [ 65,  87,  58],\n",
       "        [ 69,  91,  62],\n",
       "        ...,\n",
       "        [ 65,  41,  65],\n",
       "        [ 66,  42,  66],\n",
       "        [ 66,  42,  66]],\n",
       "\n",
       "       ...,\n",
       "\n",
       "       [[ 24,  18,   7],\n",
       "        [ 25,  19,   8],\n",
       "        [ 25,  19,   8],\n",
       "        ...,\n",
       "        [130,  96, 103],\n",
       "        [131,  97, 104],\n",
       "        [132,  98, 104]],\n",
       "\n",
       "       [[ 24,  18,   7],\n",
       "        [ 24,  18,   7],\n",
       "        [ 23,  17,   6],\n",
       "        ...,\n",
       "        [130,  96, 102],\n",
       "        [131,  97, 103],\n",
       "        [131,  97, 103]],\n",
       "\n",
       "       [[ 20,  14,   3],\n",
       "        [ 23,  17,   6],\n",
       "        [ 25,  19,   8],\n",
       "        ...,\n",
       "        [130,  96, 102],\n",
       "        [133,  97, 103],\n",
       "        [134,  99, 103]]], dtype=uint8)"
      ]
     },
     "execution_count": 8,
     "metadata": {},
     "output_type": "execute_result"
    }
   ],
   "source": [
    "image"
   ]
  },
  {
   "cell_type": "code",
   "execution_count": 9,
   "id": "682db2e5",
   "metadata": {},
   "outputs": [],
   "source": [
    "cv2.imshow('flower_image',image)      # waitKey,destroywindw for not to show error in jupyter notebook(mandatory For imshow)\n",
    "cv2.waitKey(0)         #2000-2 ssec  3000-3 sec   if 0,press any key to disappear\n",
    "cv2.destroyAllWindows()"
   ]
  },
  {
   "cell_type": "code",
   "execution_count": 10,
   "id": "eb85197f",
   "metadata": {},
   "outputs": [
    {
     "data": {
      "text/plain": [
       "(475, 600, 3)"
      ]
     },
     "execution_count": 10,
     "metadata": {},
     "output_type": "execute_result"
    }
   ],
   "source": [
    "image.shape"
   ]
  },
  {
   "cell_type": "code",
   "execution_count": 13,
   "id": "5b487271",
   "metadata": {},
   "outputs": [],
   "source": [
    "im=cv2.resize(image,(300,300))\n",
    "cv2.imshow('flower_image',image)\n",
    "cv2.imshow('reshaped_image',im)\n",
    "cv2.waitKey(2000)\n",
    "cv2.destroyAllWindows()"
   ]
  },
  {
   "cell_type": "code",
   "execution_count": 14,
   "id": "ad145a6d",
   "metadata": {},
   "outputs": [
    {
     "data": {
      "text/plain": [
       "True"
      ]
     },
     "execution_count": 14,
     "metadata": {},
     "output_type": "execute_result"
    }
   ],
   "source": [
    "cv2.imwrite('reshaped_image.jpg',im)"
   ]
  },
  {
   "cell_type": "markdown",
   "id": "cd50a59d",
   "metadata": {},
   "source": [
    "### Loading image in grayscale"
   ]
  },
  {
   "cell_type": "code",
   "execution_count": 17,
   "id": "98812d1b",
   "metadata": {},
   "outputs": [],
   "source": [
    "color_image=cv2.imread(r'C:\\Users\\Lenovo\\Downloads\\cat.jpg')\n",
    "grayscale_image=cv2.imread(r'C:\\Users\\Lenovo\\Downloads\\cat.jpg',0)     #0 for turning color image to grayscale\n",
    "cv2.imshow('original image',color_image)\n",
    "cv2.imshow('grayscale image',grayscale_image)\n",
    "cv2.waitKey(3000)\n",
    "cv2.destroyAllWindows()"
   ]
  },
  {
   "cell_type": "markdown",
   "id": "ce4e805d",
   "metadata": {},
   "source": [
    "### channel conversion"
   ]
  },
  {
   "cell_type": "code",
   "execution_count": 18,
   "id": "08c515d1",
   "metadata": {},
   "outputs": [],
   "source": [
    "#rgb to gray\n",
    "\n",
    "rgb_image=cv2.imread('fox_image.png')\n",
    "gray=cv2.cvtColor(rgb_image,cv2.COLOR_BGR2GRAY)\n",
    "cv2.imshow('rgb image',rgb_image)\n",
    "cv2.imshow('gray image',gray)\n",
    "cv2.waitKey(0)\n",
    "cv2.destroyAllWindows()"
   ]
  },
  {
   "cell_type": "code",
   "execution_count": 19,
   "id": "4a45c3ad",
   "metadata": {},
   "outputs": [],
   "source": [
    "#rgb to hsv\n",
    "\n",
    "hsv=cv2.cvtColor(rgb_image,cv2.COLOR_BGR2HSV)\n",
    "hsv_bgr=cv2.cvtColor(hsv,cv2.COLOR_HSV2BGR)\n",
    "cv2.imshow('rgb image',rgb_image)\n",
    "cv2.imshow('hsv',hsv)\n",
    "cv2.imshow('hsv2bgr',hsv_bgr)\n",
    "cv2.waitKey(0)\n",
    "cv2.destroyAllWindows()"
   ]
  },
  {
   "cell_type": "code",
   "execution_count": 20,
   "id": "b93ba7cc",
   "metadata": {},
   "outputs": [],
   "source": [
    "#rgb to Lab\n",
    "\n",
    "lab=cv2.cvtColor(rgb_image,cv2.COLOR_BGR2Lab)\n",
    "lab_bgr=cv2.cvtColor(lab,cv2.COLOR_Lab2BGR)\n",
    "cv2.imshow('rgb image',rgb_image)\n",
    "cv2.imshow('lab',lab)\n",
    "cv2.imshow('lab2bgr',lab_bgr)\n",
    "cv2.waitKey(0)\n",
    "cv2.destroyAllWindows()"
   ]
  },
  {
   "cell_type": "code",
   "execution_count": 21,
   "id": "72bc5145",
   "metadata": {},
   "outputs": [],
   "source": [
    "#rgb to YCbCr\n",
    "\n",
    "y=cv2.cvtColor(rgb_image,cv2.COLOR_BGR2YCrCb)\n",
    "y_bgr=cv2.cvtColor(y,cv2.COLOR_YCrCb2BGR)\n",
    "cv2.imshow('rgb image',rgb_image)\n",
    "cv2.imshow('YCrCb',y)\n",
    "cv2.imshow('y2bgr',y_bgr)\n",
    "cv2.waitKey(0)\n",
    "cv2.destroyAllWindows()"
   ]
  },
  {
   "cell_type": "markdown",
   "id": "897a86e7",
   "metadata": {},
   "source": [
    "### Splitting and merging channels"
   ]
  },
  {
   "cell_type": "code",
   "execution_count": 22,
   "id": "6947b52d",
   "metadata": {},
   "outputs": [],
   "source": [
    "#split\n",
    "\n",
    "rgb_image=cv2.imread('fox_image.png')\n",
    "rgb_image=cv2.resize(rgb_image,(500,600))\n",
    "(b,g,r)=cv2.split(rgb_image)\n",
    "cv2.imshow('original image',rgb_image)\n",
    "cv2.imshow('red channel',r)\n",
    "cv2.imshow('green channel',g)\n",
    "cv2.imshow('blue channel',b)\n",
    "cv2.waitKey(0)\n",
    "cv2.destroyAllWindows()"
   ]
  },
  {
   "cell_type": "code",
   "execution_count": 23,
   "id": "29341a06",
   "metadata": {},
   "outputs": [],
   "source": [
    "#merge\n",
    "\n",
    "merged=cv2.merge([b,g,r])\n",
    "cv2.imshow('merged image',merged)\n",
    "cv2.waitKey(0)\n",
    "cv2.destroyAllWindows()"
   ]
  },
  {
   "cell_type": "code",
   "execution_count": 24,
   "id": "ef6850d5",
   "metadata": {},
   "outputs": [],
   "source": [
    "y=cv2.cvtColor(rgb_image,cv2.COLOR_BGR2YCrCb)\n",
    "(y_,cr,cb)=cv2.split(y)\n",
    "cv2.imshow('y',y)\n",
    "cv2.imshow('cr',cr)\n",
    "cv2.imshow('cb',cb)\n",
    "m=cv2.merge([y_,cr,cb])\n",
    "cv2.imshow('merged',m)\n",
    "cv2.waitKey(0)\n",
    "cv2.destroyAllWindows()"
   ]
  },
  {
   "cell_type": "markdown",
   "id": "2fc18b05",
   "metadata": {},
   "source": [
    "## Histograms"
   ]
  },
  {
   "cell_type": "raw",
   "id": "342ce52c",
   "metadata": {},
   "source": [
    "cv2.calcHist(images,channels,mask,histSize,ranges)\n",
    "\n",
    "^ images--source of image given within square braces\n",
    "^ channels--channels whose histogram needs to be calculated\n",
    "^ mask--mask over cover image.None-creates histogram of whole image\n",
    "^ histSize--bin count. given in braces. for full scale pass 256\n",
    "^ ranges--range normally[0,255]"
   ]
  },
  {
   "cell_type": "code",
   "execution_count": 25,
   "id": "50c35b75",
   "metadata": {},
   "outputs": [
    {
     "name": "stdout",
     "output_type": "stream",
     "text": [
      "[[0.000e+00]\n",
      " [2.000e+00]\n",
      " [3.000e+00]\n",
      " [1.400e+01]\n",
      " [1.800e+01]\n",
      " [3.100e+01]\n",
      " [6.100e+01]\n",
      " [7.800e+01]\n",
      " [9.900e+01]\n",
      " [1.410e+02]\n",
      " [1.790e+02]\n",
      " [1.790e+02]\n",
      " [2.020e+02]\n",
      " [2.350e+02]\n",
      " [2.360e+02]\n",
      " [2.540e+02]\n",
      " [2.320e+02]\n",
      " [2.270e+02]\n",
      " [1.980e+02]\n",
      " [1.520e+02]\n",
      " [1.820e+02]\n",
      " [1.810e+02]\n",
      " [1.590e+02]\n",
      " [1.600e+02]\n",
      " [1.830e+02]\n",
      " [1.750e+02]\n",
      " [1.720e+02]\n",
      " [2.090e+02]\n",
      " [1.850e+02]\n",
      " [2.110e+02]\n",
      " [2.590e+02]\n",
      " [3.370e+02]\n",
      " [4.090e+02]\n",
      " [6.010e+02]\n",
      " [7.770e+02]\n",
      " [1.076e+03]\n",
      " [1.337e+03]\n",
      " [1.835e+03]\n",
      " [2.180e+03]\n",
      " [2.511e+03]\n",
      " [2.786e+03]\n",
      " [2.746e+03]\n",
      " [2.683e+03]\n",
      " [2.506e+03]\n",
      " [2.480e+03]\n",
      " [2.403e+03]\n",
      " [2.443e+03]\n",
      " [2.473e+03]\n",
      " [2.418e+03]\n",
      " [2.414e+03]\n",
      " [2.074e+03]\n",
      " [1.944e+03]\n",
      " [1.945e+03]\n",
      " [1.977e+03]\n",
      " [2.035e+03]\n",
      " [2.200e+03]\n",
      " [2.352e+03]\n",
      " [2.566e+03]\n",
      " [2.777e+03]\n",
      " [3.035e+03]\n",
      " [3.145e+03]\n",
      " [3.328e+03]\n",
      " [3.577e+03]\n",
      " [4.050e+03]\n",
      " [4.472e+03]\n",
      " [4.868e+03]\n",
      " [4.967e+03]\n",
      " [5.070e+03]\n",
      " [5.174e+03]\n",
      " [5.212e+03]\n",
      " [5.307e+03]\n",
      " [5.245e+03]\n",
      " [5.491e+03]\n",
      " [5.399e+03]\n",
      " [5.165e+03]\n",
      " [4.654e+03]\n",
      " [4.368e+03]\n",
      " [4.194e+03]\n",
      " [4.389e+03]\n",
      " [4.760e+03]\n",
      " [5.249e+03]\n",
      " [6.131e+03]\n",
      " [6.779e+03]\n",
      " [6.962e+03]\n",
      " [6.731e+03]\n",
      " [6.009e+03]\n",
      " [5.204e+03]\n",
      " [4.545e+03]\n",
      " [4.091e+03]\n",
      " [3.956e+03]\n",
      " [4.050e+03]\n",
      " [4.121e+03]\n",
      " [3.933e+03]\n",
      " [3.815e+03]\n",
      " [3.583e+03]\n",
      " [3.074e+03]\n",
      " [2.374e+03]\n",
      " [1.769e+03]\n",
      " [1.203e+03]\n",
      " [1.013e+03]\n",
      " [6.250e+02]\n",
      " [5.110e+02]\n",
      " [3.790e+02]\n",
      " [2.790e+02]\n",
      " [1.970e+02]\n",
      " [2.100e+02]\n",
      " [1.650e+02]\n",
      " [1.610e+02]\n",
      " [1.480e+02]\n",
      " [1.430e+02]\n",
      " [1.360e+02]\n",
      " [1.350e+02]\n",
      " [9.700e+01]\n",
      " [9.500e+01]\n",
      " [7.900e+01]\n",
      " [1.000e+02]\n",
      " [9.100e+01]\n",
      " [9.300e+01]\n",
      " [8.700e+01]\n",
      " [7.500e+01]\n",
      " [8.200e+01]\n",
      " [5.900e+01]\n",
      " [4.900e+01]\n",
      " [5.200e+01]\n",
      " [5.400e+01]\n",
      " [3.600e+01]\n",
      " [5.300e+01]\n",
      " [4.200e+01]\n",
      " [4.800e+01]\n",
      " [5.100e+01]\n",
      " [4.700e+01]\n",
      " [5.500e+01]\n",
      " [4.200e+01]\n",
      " [6.100e+01]\n",
      " [4.000e+01]\n",
      " [4.700e+01]\n",
      " [5.900e+01]\n",
      " [4.800e+01]\n",
      " [4.900e+01]\n",
      " [5.000e+01]\n",
      " [5.100e+01]\n",
      " [5.300e+01]\n",
      " [6.000e+01]\n",
      " [6.200e+01]\n",
      " [7.000e+01]\n",
      " [6.900e+01]\n",
      " [6.500e+01]\n",
      " [6.200e+01]\n",
      " [6.500e+01]\n",
      " [7.000e+01]\n",
      " [7.700e+01]\n",
      " [7.000e+01]\n",
      " [7.300e+01]\n",
      " [7.100e+01]\n",
      " [8.200e+01]\n",
      " [8.500e+01]\n",
      " [1.010e+02]\n",
      " [9.100e+01]\n",
      " [8.900e+01]\n",
      " [7.600e+01]\n",
      " [8.500e+01]\n",
      " [9.000e+01]\n",
      " [7.900e+01]\n",
      " [7.500e+01]\n",
      " [9.200e+01]\n",
      " [9.500e+01]\n",
      " [8.700e+01]\n",
      " [8.000e+01]\n",
      " [8.100e+01]\n",
      " [9.200e+01]\n",
      " [6.600e+01]\n",
      " [6.600e+01]\n",
      " [5.900e+01]\n",
      " [8.000e+01]\n",
      " [8.500e+01]\n",
      " [7.400e+01]\n",
      " [7.700e+01]\n",
      " [6.600e+01]\n",
      " [5.500e+01]\n",
      " [6.200e+01]\n",
      " [6.500e+01]\n",
      " [8.400e+01]\n",
      " [8.600e+01]\n",
      " [7.300e+01]\n",
      " [7.600e+01]\n",
      " [6.700e+01]\n",
      " [7.100e+01]\n",
      " [6.900e+01]\n",
      " [8.200e+01]\n",
      " [6.900e+01]\n",
      " [7.900e+01]\n",
      " [8.100e+01]\n",
      " [7.700e+01]\n",
      " [8.200e+01]\n",
      " [7.200e+01]\n",
      " [8.300e+01]\n",
      " [8.700e+01]\n",
      " [8.100e+01]\n",
      " [9.300e+01]\n",
      " [9.400e+01]\n",
      " [1.020e+02]\n",
      " [1.040e+02]\n",
      " [9.300e+01]\n",
      " [1.100e+02]\n",
      " [1.220e+02]\n",
      " [1.400e+02]\n",
      " [1.620e+02]\n",
      " [1.460e+02]\n",
      " [1.490e+02]\n",
      " [1.680e+02]\n",
      " [1.890e+02]\n",
      " [2.160e+02]\n",
      " [1.970e+02]\n",
      " [2.480e+02]\n",
      " [2.340e+02]\n",
      " [2.230e+02]\n",
      " [2.530e+02]\n",
      " [2.700e+02]\n",
      " [2.910e+02]\n",
      " [3.210e+02]\n",
      " [3.760e+02]\n",
      " [3.970e+02]\n",
      " [4.540e+02]\n",
      " [4.780e+02]\n",
      " [5.030e+02]\n",
      " [5.270e+02]\n",
      " [5.480e+02]\n",
      " [6.100e+02]\n",
      " [6.410e+02]\n",
      " [6.700e+02]\n",
      " [7.770e+02]\n",
      " [8.680e+02]\n",
      " [9.410e+02]\n",
      " [9.380e+02]\n",
      " [9.870e+02]\n",
      " [1.009e+03]\n",
      " [1.082e+03]\n",
      " [1.141e+03]\n",
      " [1.151e+03]\n",
      " [1.202e+03]\n",
      " [1.193e+03]\n",
      " [1.154e+03]\n",
      " [1.216e+03]\n",
      " [1.211e+03]\n",
      " [1.243e+03]\n",
      " [1.270e+03]\n",
      " [1.146e+03]\n",
      " [1.227e+03]\n",
      " [1.186e+03]\n",
      " [1.152e+03]\n",
      " [1.128e+03]\n",
      " [7.770e+02]\n",
      " [4.660e+02]\n",
      " [3.660e+02]\n",
      " [3.050e+02]\n",
      " [0.000e+00]]\n"
     ]
    },
    {
     "ename": "NameError",
     "evalue": "name 'rgb_img' is not defined",
     "output_type": "error",
     "traceback": [
      "\u001b[1;31m---------------------------------------------------------------------------\u001b[0m",
      "\u001b[1;31mNameError\u001b[0m                                 Traceback (most recent call last)",
      "\u001b[1;32m~\\AppData\\Local\\Temp/ipykernel_9204/975126757.py\u001b[0m in \u001b[0;36m<module>\u001b[1;34m\u001b[0m\n\u001b[0;32m      6\u001b[0m \u001b[0mprint\u001b[0m\u001b[1;33m(\u001b[0m\u001b[0mhist\u001b[0m\u001b[1;33m)\u001b[0m\u001b[1;33m\u001b[0m\u001b[1;33m\u001b[0m\u001b[0m\n\u001b[0;32m      7\u001b[0m \u001b[1;31m#for blue channel\u001b[0m\u001b[1;33m\u001b[0m\u001b[1;33m\u001b[0m\u001b[0m\n\u001b[1;32m----> 8\u001b[1;33m \u001b[0mb_hist\u001b[0m\u001b[1;33m=\u001b[0m\u001b[0mcv2\u001b[0m\u001b[1;33m.\u001b[0m\u001b[0mcalcHist\u001b[0m\u001b[1;33m(\u001b[0m\u001b[1;33m[\u001b[0m\u001b[0mrgb_img\u001b[0m\u001b[1;33m]\u001b[0m\u001b[1;33m,\u001b[0m\u001b[1;33m[\u001b[0m\u001b[1;36m0\u001b[0m\u001b[1;33m]\u001b[0m\u001b[1;33m,\u001b[0m\u001b[1;32mNone\u001b[0m\u001b[1;33m,\u001b[0m\u001b[1;33m[\u001b[0m\u001b[1;36m256\u001b[0m\u001b[1;33m]\u001b[0m\u001b[1;33m,\u001b[0m\u001b[1;33m[\u001b[0m\u001b[1;36m0\u001b[0m\u001b[1;33m,\u001b[0m\u001b[1;36m255\u001b[0m\u001b[1;33m]\u001b[0m\u001b[1;33m)\u001b[0m\u001b[1;33m\u001b[0m\u001b[1;33m\u001b[0m\u001b[0m\n\u001b[0m\u001b[0;32m      9\u001b[0m \u001b[1;31m#for green channel\u001b[0m\u001b[1;33m\u001b[0m\u001b[1;33m\u001b[0m\u001b[0m\n\u001b[0;32m     10\u001b[0m \u001b[0mg_hist\u001b[0m\u001b[1;33m=\u001b[0m\u001b[0mcv2\u001b[0m\u001b[1;33m.\u001b[0m\u001b[0mcalcHist\u001b[0m\u001b[1;33m(\u001b[0m\u001b[1;33m[\u001b[0m\u001b[0mrgb_img\u001b[0m\u001b[1;33m]\u001b[0m\u001b[1;33m,\u001b[0m\u001b[1;33m[\u001b[0m\u001b[1;36m1\u001b[0m\u001b[1;33m]\u001b[0m\u001b[1;33m,\u001b[0m\u001b[1;32mNone\u001b[0m\u001b[1;33m,\u001b[0m\u001b[1;33m[\u001b[0m\u001b[1;36m256\u001b[0m\u001b[1;33m]\u001b[0m\u001b[1;33m,\u001b[0m\u001b[1;33m[\u001b[0m\u001b[1;36m0\u001b[0m\u001b[1;33m,\u001b[0m\u001b[1;36m255\u001b[0m\u001b[1;33m]\u001b[0m\u001b[1;33m)\u001b[0m\u001b[1;33m\u001b[0m\u001b[1;33m\u001b[0m\u001b[0m\n",
      "\u001b[1;31mNameError\u001b[0m: name 'rgb_img' is not defined"
     ]
    }
   ],
   "source": [
    "#histogram calculation usimg opencv\n",
    "#for gray scale image\n",
    "img=cv2.imread(r'C:\\Users\\Lenovo\\Downloads\\flower.jpg',0)\n",
    "rgb_image=cv2.imread(r'C:\\Users\\Lenovo\\Downloads\\flower.jpg')\n",
    "hist=cv2.calcHist([img],[0],None,[256],[0,255])\n",
    "print(hist)\n",
    "#for blue channel\n",
    "b_hist=cv2.calcHist([rgb_img],[0],None,[256],[0,255])\n",
    "#for green channel\n",
    "g_hist=cv2.calcHist([rgb_img],[1],None,[256],[0,255])\n",
    "#for red channel\n",
    "r_hist=cv2.calcHist([rgb_img],[2],None,[256],[0,255])"
   ]
  },
  {
   "cell_type": "code",
   "execution_count": 26,
   "id": "4453edbd",
   "metadata": {},
   "outputs": [
    {
     "data": {
      "text/plain": [
       "array([   0,    2,    3,   14,   18,   31,   61,   78,   99,  141,  179,\n",
       "        179,  202,  235,  236,  254,  232,  227,  198,  152,  182,  181,\n",
       "        159,  160,  183,  175,  172,  209,  185,  211,  259,  337,  409,\n",
       "        601,  777, 1076, 1337, 1835, 2180, 2511, 2786, 2746, 2683, 2506,\n",
       "       2480, 2403, 2443, 2473, 2418, 2414, 2074, 1944, 1945, 1977, 2035,\n",
       "       2200, 2352, 2566, 2777, 3035, 3145, 3328, 3577, 4050, 4472, 4868,\n",
       "       4967, 5070, 5174, 5212, 5307, 5245, 5491, 5399, 5165, 4654, 4368,\n",
       "       4194, 4389, 4760, 5249, 6131, 6779, 6962, 6731, 6009, 5204, 4545,\n",
       "       4091, 3956, 4050, 4121, 3933, 3815, 3583, 3074, 2374, 1769, 1203,\n",
       "       1013,  625,  511,  379,  279,  197,  210,  165,  161,  148,  143,\n",
       "        136,  135,   97,   95,   79,  100,   91,   93,   87,   75,   82,\n",
       "         59,   49,   52,   54,   36,   53,   42,   48,   51,   47,   55,\n",
       "         42,   61,   40,   47,   59,   48,   49,   50,   51,   53,   60,\n",
       "         62,   70,   69,   65,   62,   65,   70,   77,   70,   73,   71,\n",
       "         82,   85,  101,   91,   89,   76,   85,   90,   79,   75,   92,\n",
       "         95,   87,   80,   81,   92,   66,   66,   59,   80,   85,   74,\n",
       "         77,   66,   55,   62,   65,   84,   86,   73,   76,   67,   71,\n",
       "         69,   82,   69,   79,   81,   77,   82,   72,   83,   87,   81,\n",
       "         93,   94,  102,  104,   93,  110,  122,  140,  162,  146,  149,\n",
       "        168,  189,  216,  197,  248,  234,  223,  253,  270,  291,  321,\n",
       "        376,  397,  454,  478,  503,  527,  548,  610,  641,  670,  777,\n",
       "        868,  941,  938,  987, 1009, 1082, 1141, 1151, 1202, 1193, 1154,\n",
       "       1216, 1211, 1243, 1270, 1146, 1227, 1186, 1152, 1128,  777,  466,\n",
       "        366,  305,  169], dtype=int64)"
      ]
     },
     "execution_count": 26,
     "metadata": {},
     "output_type": "execute_result"
    }
   ],
   "source": [
    "#calculating histogram using numpy\n",
    "\n",
    "import numpy as np\n",
    "hist_np,bins=np.histogram(img.ravel(),256,[0,256])  #ravel--to change 2D array to 1D array\n",
    "hist_np"
   ]
  },
  {
   "cell_type": "code",
   "execution_count": 27,
   "id": "4973005c",
   "metadata": {},
   "outputs": [
    {
     "data": {
      "text/plain": [
       "array([  0.,   1.,   2.,   3.,   4.,   5.,   6.,   7.,   8.,   9.,  10.,\n",
       "        11.,  12.,  13.,  14.,  15.,  16.,  17.,  18.,  19.,  20.,  21.,\n",
       "        22.,  23.,  24.,  25.,  26.,  27.,  28.,  29.,  30.,  31.,  32.,\n",
       "        33.,  34.,  35.,  36.,  37.,  38.,  39.,  40.,  41.,  42.,  43.,\n",
       "        44.,  45.,  46.,  47.,  48.,  49.,  50.,  51.,  52.,  53.,  54.,\n",
       "        55.,  56.,  57.,  58.,  59.,  60.,  61.,  62.,  63.,  64.,  65.,\n",
       "        66.,  67.,  68.,  69.,  70.,  71.,  72.,  73.,  74.,  75.,  76.,\n",
       "        77.,  78.,  79.,  80.,  81.,  82.,  83.,  84.,  85.,  86.,  87.,\n",
       "        88.,  89.,  90.,  91.,  92.,  93.,  94.,  95.,  96.,  97.,  98.,\n",
       "        99., 100., 101., 102., 103., 104., 105., 106., 107., 108., 109.,\n",
       "       110., 111., 112., 113., 114., 115., 116., 117., 118., 119., 120.,\n",
       "       121., 122., 123., 124., 125., 126., 127., 128., 129., 130., 131.,\n",
       "       132., 133., 134., 135., 136., 137., 138., 139., 140., 141., 142.,\n",
       "       143., 144., 145., 146., 147., 148., 149., 150., 151., 152., 153.,\n",
       "       154., 155., 156., 157., 158., 159., 160., 161., 162., 163., 164.,\n",
       "       165., 166., 167., 168., 169., 170., 171., 172., 173., 174., 175.,\n",
       "       176., 177., 178., 179., 180., 181., 182., 183., 184., 185., 186.,\n",
       "       187., 188., 189., 190., 191., 192., 193., 194., 195., 196., 197.,\n",
       "       198., 199., 200., 201., 202., 203., 204., 205., 206., 207., 208.,\n",
       "       209., 210., 211., 212., 213., 214., 215., 216., 217., 218., 219.,\n",
       "       220., 221., 222., 223., 224., 225., 226., 227., 228., 229., 230.,\n",
       "       231., 232., 233., 234., 235., 236., 237., 238., 239., 240., 241.,\n",
       "       242., 243., 244., 245., 246., 247., 248., 249., 250., 251., 252.,\n",
       "       253., 254., 255., 256.])"
      ]
     },
     "execution_count": 27,
     "metadata": {},
     "output_type": "execute_result"
    }
   ],
   "source": [
    "bins"
   ]
  },
  {
   "cell_type": "code",
   "execution_count": null,
   "id": "753cdf67",
   "metadata": {},
   "outputs": [],
   "source": []
  }
 ],
 "metadata": {
  "kernelspec": {
   "display_name": "Python 3 (ipykernel)",
   "language": "python",
   "name": "python3"
  },
  "language_info": {
   "codemirror_mode": {
    "name": "ipython",
    "version": 3
   },
   "file_extension": ".py",
   "mimetype": "text/x-python",
   "name": "python",
   "nbconvert_exporter": "python",
   "pygments_lexer": "ipython3",
   "version": "3.9.7"
  }
 },
 "nbformat": 4,
 "nbformat_minor": 5
}
