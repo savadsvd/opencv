{
 "cells": [
  {
   "cell_type": "code",
   "execution_count": 1,
   "id": "aa54ea5e",
   "metadata": {},
   "outputs": [],
   "source": [
    "import cv2"
   ]
  },
  {
   "cell_type": "code",
   "execution_count": 2,
   "id": "1e3b6dd3",
   "metadata": {},
   "outputs": [],
   "source": [
    "img=cv2.imread(r'C:\\Users\\Lenovo\\Downloads\\flower.jpg',0)\n",
    "ret,tresh=cv2.threshold(img,149,255,cv2.THRESH_BINARY)\n",
    "cv2.imshow('image',img)\n",
    "cv2.imshow('binary_img',tresh)\n",
    "cv2.waitKey(0)\n",
    "cv2.destroyAllWindows()"
   ]
  },
  {
   "cell_type": "code",
   "execution_count": 21,
   "id": "ced59115",
   "metadata": {},
   "outputs": [],
   "source": [
    "#cv2.findContours(image,mode,method)\n",
    "contours,hierarchy=cv2.findContours(tresh,mode=cv2.RETR_TREE,method=cv2.CHAIN_APPROX_NONE)\n",
    "#RETR_TREE retrives all possible contours from the image\n",
    "image_copy=img.copy()\n",
    "#contoursIdx:indicates a contour to draw:-1 means draw all contours\n",
    "cv2.drawContours(image_copy,contours=contours,contourIdx=-1,color=(0,0,0),thickness=2,lineType=cv2.LINE_4)\n",
    "cv2.imshow('image',image_copy)\n",
    "cv2.waitKey(0)\n",
    "cv2.destroyAllWindows()"
   ]
  },
  {
   "cell_type": "markdown",
   "id": "a8e51d1f",
   "metadata": {},
   "source": [
    "### capture video through webcam"
   ]
  },
  {
   "cell_type": "code",
   "execution_count": 23,
   "id": "f83275c7",
   "metadata": {},
   "outputs": [],
   "source": [
    "#define a video capture object\n",
    "vid=cv2.VideoCapture(0)\n",
    "\n",
    "\n",
    "while(True):  #always\n",
    "    #capture the video frame by frame\n",
    "    ret,frame=vid.read()\n",
    "    \n",
    "    #display the resulting frame\n",
    "    cv2.imshow('frame',frame)\n",
    "    \n",
    "    #the 's' button is set the quitting button   (use any)\n",
    "    if cv2.waitKey(1)==ord('s'):\n",
    "        break\n",
    "vid.release()\n",
    "\n",
    "#see the last frame\n",
    "cv2.waitKey(0)\n",
    "#destory all the windows\n",
    "cv2.destroyAllWindows()\n"
   ]
  },
  {
   "cell_type": "markdown",
   "id": "dee6d695",
   "metadata": {},
   "source": [
    "### capturing and saving video"
   ]
  },
  {
   "cell_type": "code",
   "execution_count": 5,
   "id": "b336424d",
   "metadata": {},
   "outputs": [],
   "source": [
    "#object of class video capture\n",
    "capture=cv2.VideoCapture(0)\n",
    "#defining the video codet\n",
    "#fourcc-four charecter code of codec\n",
    "fourcc=cv2.VideoWriter_fourcc('X','V','I','D')\n",
    "#cv2.videowriter(path,codec,frame rate,dimension of video)\n",
    "videowriter=cv2.VideoWriter(r'C:\\Users\\Lenovo\\Desktop\\ML\\video.avi',fourcc,30.0,(640,480))\n",
    "\n",
    "while(True):\n",
    "    ret,frame=capture.read()\n",
    "    if ret:\n",
    "        cv2.imshow('video',frame)\n",
    "        videowriter.write(frame)\n",
    "    #break when the ECS key is pressed\n",
    "    if cv2.waitKey(1)==27:\n",
    "        break\n",
    "        \n",
    "capture.release()\n",
    "videowriter.release()\n",
    "cv2.destroyAllWindows()"
   ]
  },
  {
   "cell_type": "code",
   "execution_count": null,
   "id": "ba50f067",
   "metadata": {},
   "outputs": [],
   "source": []
  }
 ],
 "metadata": {
  "kernelspec": {
   "display_name": "Python 3 (ipykernel)",
   "language": "python",
   "name": "python3"
  },
  "language_info": {
   "codemirror_mode": {
    "name": "ipython",
    "version": 3
   },
   "file_extension": ".py",
   "mimetype": "text/x-python",
   "name": "python",
   "nbconvert_exporter": "python",
   "pygments_lexer": "ipython3",
   "version": "3.9.7"
  }
 },
 "nbformat": 4,
 "nbformat_minor": 5
}
