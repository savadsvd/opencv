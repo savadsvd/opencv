{
 "cells": [
  {
   "cell_type": "code",
   "execution_count": 1,
   "id": "fee9bb4b",
   "metadata": {},
   "outputs": [],
   "source": [
    "import cv2"
   ]
  },
  {
   "cell_type": "code",
   "execution_count": 2,
   "id": "3c639b36",
   "metadata": {},
   "outputs": [],
   "source": [
    "image=cv2.imread(r'C:\\Users\\Lenovo\\Downloads\\flower.jpg',0)\n",
    "cv2.imshow('image',image)\n",
    "cv2.waitKey(0)\n",
    "cv2.destroyAllWindows()"
   ]
  },
  {
   "cell_type": "markdown",
   "id": "52432a29",
   "metadata": {},
   "source": [
    "### simple binary"
   ]
  },
  {
   "cell_type": "code",
   "execution_count": 37,
   "id": "e5e648f3",
   "metadata": {},
   "outputs": [
    {
     "data": {
      "text/plain": [
       "120.0"
      ]
     },
     "execution_count": 37,
     "metadata": {},
     "output_type": "execute_result"
    }
   ],
   "source": [
    "#cv2.threshold(image,threshold,max_value,technique)\n",
    "ret,thresh=cv2.threshold(image,120,255,cv2.THRESH_BINARY)\n",
    "cv2.imshow('binary_thres',thresh)\n",
    "cv2.waitKey(0)\n",
    "cv2.destroyAllWindows()\n",
    "ret"
   ]
  },
  {
   "cell_type": "markdown",
   "id": "5f414297",
   "metadata": {},
   "source": [
    "### binary inversion"
   ]
  },
  {
   "cell_type": "code",
   "execution_count": 38,
   "id": "bd262662",
   "metadata": {},
   "outputs": [
    {
     "data": {
      "text/plain": [
       "100.0"
      ]
     },
     "execution_count": 38,
     "metadata": {},
     "output_type": "execute_result"
    }
   ],
   "source": [
    "ret,thresh=cv2.threshold(image,100,255,cv2.THRESH_BINARY_INV)\n",
    "cv2.imshow('binary_inv_thres',thresh)\n",
    "cv2.waitKey(0)\n",
    "cv2.destroyAllWindows()\n",
    "ret"
   ]
  },
  {
   "cell_type": "markdown",
   "id": "54ffafb9",
   "metadata": {},
   "source": [
    "### truncate"
   ]
  },
  {
   "cell_type": "code",
   "execution_count": 44,
   "id": "050c66a4",
   "metadata": {},
   "outputs": [
    {
     "data": {
      "text/plain": [
       "170.0"
      ]
     },
     "execution_count": 44,
     "metadata": {},
     "output_type": "execute_result"
    }
   ],
   "source": [
    "ret,thresh=cv2.threshold(image,170,255,cv2.THRESH_TRUNC)\n",
    "cv2.imshow('trunk_thres',thresh)\n",
    "cv2.waitKey(0)\n",
    "cv2.destroyAllWindows()\n",
    "ret"
   ]
  },
  {
   "cell_type": "markdown",
   "id": "495c07db",
   "metadata": {},
   "source": [
    "### to zero"
   ]
  },
  {
   "cell_type": "code",
   "execution_count": 49,
   "id": "5fb7d69f",
   "metadata": {},
   "outputs": [
    {
     "data": {
      "text/plain": [
       "130.0"
      ]
     },
     "execution_count": 49,
     "metadata": {},
     "output_type": "execute_result"
    }
   ],
   "source": [
    "ret,thresh=cv2.threshold(image,130,255,cv2.THRESH_TOZERO)\n",
    "cv2.imshow('tozero_thres',thresh)\n",
    "cv2.waitKey(0)\n",
    "cv2.destroyAllWindows()\n",
    "ret"
   ]
  },
  {
   "cell_type": "markdown",
   "id": "162635a2",
   "metadata": {},
   "source": [
    "### to zero invert"
   ]
  },
  {
   "cell_type": "code",
   "execution_count": 50,
   "id": "4e6bd6f6",
   "metadata": {},
   "outputs": [
    {
     "data": {
      "text/plain": [
       "120.0"
      ]
     },
     "execution_count": 50,
     "metadata": {},
     "output_type": "execute_result"
    }
   ],
   "source": [
    "ret,thresh=cv2.threshold(image,120,255,cv2.THRESH_TOZERO_INV)\n",
    "cv2.imshow('tozero_inv_thres',thresh)\n",
    "cv2.waitKey(0)\n",
    "cv2.destroyAllWindows()\n",
    "ret"
   ]
  },
  {
   "cell_type": "markdown",
   "id": "8f4b646a",
   "metadata": {},
   "source": [
    "### otsu threshold"
   ]
  },
  {
   "cell_type": "code",
   "execution_count": 3,
   "id": "4c209b18",
   "metadata": {},
   "outputs": [
    {
     "data": {
      "text/plain": [
       "149.0"
      ]
     },
     "execution_count": 3,
     "metadata": {},
     "output_type": "execute_result"
    }
   ],
   "source": [
    "#cv2.threshold,(source,threshold value,maxVal,thresholding technique)\n",
    "ret,thresh=cv2.threshold(image,0,255,cv2.THRESH_BINARY+cv2.THRESH_OTSU)\n",
    "cv2.imshow('otsu_tre',thresh)\n",
    "cv2.waitKey(0)\n",
    "cv2.destroyAllWindows()\n",
    "ret"
   ]
  },
  {
   "cell_type": "markdown",
   "id": "a0ac2735",
   "metadata": {},
   "source": [
    "### comparing otsu and binary"
   ]
  },
  {
   "cell_type": "code",
   "execution_count": 6,
   "id": "9f2add28",
   "metadata": {},
   "outputs": [
    {
     "name": "stdout",
     "output_type": "stream",
     "text": [
      "120.0 149.0\n"
     ]
    }
   ],
   "source": [
    "ret1,thresh1=cv2.threshold(image,120,255,cv2.THRESH_BINARY)\n",
    "ret2,thresh2=cv2.threshold(image,0,255,cv2.THRESH_BINARY+cv2.THRESH_OTSU)\n",
    "cv2.imshow('binary_thresh',thresh1)\n",
    "cv2.imshow('otsu_tresh',thresh2)\n",
    "cv2.waitKey(0)\n",
    "cv2.destroyAllWindows()\n",
    "print(ret1,ret2)"
   ]
  },
  {
   "cell_type": "markdown",
   "id": "51cd3198",
   "metadata": {},
   "source": [
    "### adaptive threshold"
   ]
  },
  {
   "cell_type": "markdown",
   "id": "c93fd3e9",
   "metadata": {},
   "source": [
    "cv2.ADAPTIVE_THRESH_MEAN_C threshold value=(guassian_weighted sum of the neighbourhood values\n",
    "constant value).it is a weighted sum of the blocksize*blocksize neighborhood of a point minus constant."
   ]
  },
  {
   "cell_type": "code",
   "execution_count": 7,
   "id": "9ddc7174",
   "metadata": {},
   "outputs": [
    {
     "data": {
      "text/plain": [
       "149.0"
      ]
     },
     "execution_count": 7,
     "metadata": {},
     "output_type": "execute_result"
    }
   ],
   "source": [
    "#cv2.adaptive threshold(image,max_value,adaptive_method,threshold type,block size,c_value)\n",
    "#block size should be odd\n",
    "#c_value substracted from the mean or weighted mean\n",
    "thresh1=cv2.adaptiveThreshold(image,255,cv2.ADAPTIVE_THRESH_MEAN_C,cv2.THRESH_BINARY,11,5)\n",
    "cv2.imshow('adap_tre',thresh1)\n",
    "cv2.waitKey(0)\n",
    "cv2.destroyAllWindows()\n",
    "ret"
   ]
  },
  {
   "cell_type": "markdown",
   "id": "6f453272",
   "metadata": {},
   "source": [
    "cv2.ADAPTIVE_THRESH_GUASSIAN_C threshold value=(guassian_weighted sum of the neighbourhood values\n",
    "constant value).it is a weighted sum of the blocksize*blocksize neighborhood of a point minus constant."
   ]
  },
  {
   "cell_type": "code",
   "execution_count": 10,
   "id": "0c35f02f",
   "metadata": {},
   "outputs": [],
   "source": [
    "thresh2=cv2.adaptiveThreshold(image,255,cv2.ADAPTIVE_THRESH_GAUSSIAN_C,cv2.THRESH_BINARY,33,5)\n",
    "cv2.imshow('adap_tre',thresh2)\n",
    "cv2.waitKey(0)\n",
    "cv2.destroyAllWindows()"
   ]
  },
  {
   "cell_type": "code",
   "execution_count": null,
   "id": "aab135d7",
   "metadata": {},
   "outputs": [],
   "source": []
  }
 ],
 "metadata": {
  "kernelspec": {
   "display_name": "Python 3 (ipykernel)",
   "language": "python",
   "name": "python3"
  },
  "language_info": {
   "codemirror_mode": {
    "name": "ipython",
    "version": 3
   },
   "file_extension": ".py",
   "mimetype": "text/x-python",
   "name": "python",
   "nbconvert_exporter": "python",
   "pygments_lexer": "ipython3",
   "version": "3.9.7"
  }
 },
 "nbformat": 4,
 "nbformat_minor": 5
}
