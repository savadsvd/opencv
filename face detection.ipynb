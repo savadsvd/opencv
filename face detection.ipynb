{
 "cells": [
  {
   "cell_type": "code",
   "execution_count": 1,
   "id": "246e04d9",
   "metadata": {},
   "outputs": [],
   "source": [
    "import cv2"
   ]
  },
  {
   "cell_type": "code",
   "execution_count": 21,
   "id": "d1c29033",
   "metadata": {},
   "outputs": [],
   "source": [
    "image=cv2.imread('faces.jpg')\n",
    "haar_cascade=cv2.CascadeClassifier('haarcascade_frontalface_default.xml')\n",
    "#detectMultiScale(image,scale factor,min_neighbours)\n",
    "#scale factor:paramteres specifying how much the image size is reduced at each image scale\n",
    "#resizing faces so that the algorithm can detect it\n",
    "\n",
    "#min_neighbours:parameters specifying how many neighbours each candidate rectangle should have \n",
    "#to retain it,-6 is a good value \n",
    "faces=haar_cascade.detectMultiScale(image,1.1,9)"
   ]
  },
  {
   "cell_type": "code",
   "execution_count": 3,
   "id": "b19539a1",
   "metadata": {},
   "outputs": [],
   "source": [
    "for (x,y,w,h) in faces:\n",
    "    cv2.rectangle(image,(x,y),(x+w,y+h),(0,0,0),2)\n",
    "    \n",
    "cv2.imshow('detected_face',image)\n",
    "cv2.waitKey(0)\n",
    "cv2.destroyAllWindows()"
   ]
  },
  {
   "cell_type": "markdown",
   "id": "858e8206",
   "metadata": {},
   "source": [
    "### face and eye detection"
   ]
  },
  {
   "cell_type": "code",
   "execution_count": 23,
   "id": "f694793c",
   "metadata": {},
   "outputs": [],
   "source": [
    "image=cv2.imread('faces.jpg')\n",
    "eyes_cascade=cv2.CascadeClassifier('haarcascade_eye.xml')\n",
    "for (x,y,w,h) in faces:\n",
    "    cv2.rectangle(image,(x,y),(x+w,y+h),(0,0,0),2)\n",
    "    #crop part of image containing face\n",
    "    sub_imag=image[y:y+h,x:x+w]\n",
    "    eyes=eyes_cascade.detectMultiScale(sub_imag)\n",
    "    \n",
    "    for (x,y,w,h) in eyes:\n",
    "        cv2.rectangle(sub_imag,(x,y),(x+w,y+h),(0,0,0),2)\n",
    "\n",
    "cv2.imshow('eye_and_face_detection',image)\n",
    "cv2.waitKey(0)\n",
    "cv2.destroyAllWindows()"
   ]
  },
  {
   "cell_type": "markdown",
   "id": "4b171d78",
   "metadata": {},
   "source": [
    "### eye detection"
   ]
  },
  {
   "cell_type": "code",
   "execution_count": 24,
   "id": "27441550",
   "metadata": {},
   "outputs": [],
   "source": [
    "image=cv2.imread('faces.jpg')\n",
    "eyes_cascade=cv2.CascadeClassifier('haarcascade_eye.xml')\n",
    "for (x,y,w,h) in faces:\n",
    "    #crop part of image containing face\n",
    "    sub_imag=image[y:y+h,x:x+w]\n",
    "    eyes=eyes_cascade.detectMultiScale(sub_imag)\n",
    "    \n",
    "    for (x,y,w,h) in eyes:\n",
    "        cv2.rectangle(sub_imag,(x,y),(x+w,y+h),(0,0,0),2)\n",
    "\n",
    "cv2.imshow('eye_detection',image)\n",
    "cv2.waitKey(0)\n",
    "cv2.destroyAllWindows()"
   ]
  },
  {
   "cell_type": "markdown",
   "id": "e4e7f3e1",
   "metadata": {},
   "source": [
    "### smile detection"
   ]
  },
  {
   "cell_type": "code",
   "execution_count": 26,
   "id": "59001c93",
   "metadata": {},
   "outputs": [],
   "source": [
    "image=cv2.imread('faces.jpg')\n",
    "smile_cascade=cv2.CascadeClassifier('haarcascade_smile.xml')\n",
    "for (x,y,w,h) in faces:\n",
    "    #crop part of image containing face\n",
    "    sub_imag=image[y:y+h,x:x+w]\n",
    "    smile=smile_cascade.detectMultiScale(sub_imag)\n",
    "    \n",
    "    for (x,y,w,h) in smile:\n",
    "        cv2.rectangle(sub_imag,(x,y),(x+w,y+h),(0,0,0),2)\n",
    "\n",
    "cv2.imshow('smile_detection',image)\n",
    "cv2.waitKey(0)\n",
    "cv2.destroyAllWindows()"
   ]
  },
  {
   "cell_type": "code",
   "execution_count": null,
   "id": "cb1cd8df",
   "metadata": {},
   "outputs": [],
   "source": []
  }
 ],
 "metadata": {
  "kernelspec": {
   "display_name": "Python 3 (ipykernel)",
   "language": "python",
   "name": "python3"
  },
  "language_info": {
   "codemirror_mode": {
    "name": "ipython",
    "version": 3
   },
   "file_extension": ".py",
   "mimetype": "text/x-python",
   "name": "python",
   "nbconvert_exporter": "python",
   "pygments_lexer": "ipython3",
   "version": "3.9.7"
  }
 },
 "nbformat": 4,
 "nbformat_minor": 5
}
