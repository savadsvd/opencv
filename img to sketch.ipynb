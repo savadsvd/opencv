{
 "cells": [
  {
   "cell_type": "code",
   "execution_count": 22,
   "id": "f27d88aa",
   "metadata": {},
   "outputs": [],
   "source": [
    "import cv2 as cv"
   ]
  },
  {
   "cell_type": "code",
   "execution_count": 23,
   "id": "4c53ee7b",
   "metadata": {},
   "outputs": [],
   "source": [
    "# Reading the image\n",
    "image = cv.imread(r\"C:\\Users\\Lenovo\\Downloads\\cock\")"
   ]
  },
  {
   "cell_type": "code",
   "execution_count": 24,
   "id": "846e5ad0",
   "metadata": {},
   "outputs": [
    {
     "ename": "error",
     "evalue": "OpenCV(4.6.0) D:\\a\\opencv-python\\opencv-python\\opencv\\modules\\imgproc\\src\\color.cpp:182: error: (-215:Assertion failed) !_src.empty() in function 'cv::cvtColor'\n",
     "output_type": "error",
     "traceback": [
      "\u001b[1;31m---------------------------------------------------------------------------\u001b[0m",
      "\u001b[1;31merror\u001b[0m                                     Traceback (most recent call last)",
      "\u001b[1;32m~\\AppData\\Local\\Temp/ipykernel_7392/2635942960.py\u001b[0m in \u001b[0;36m<module>\u001b[1;34m\u001b[0m\n\u001b[0;32m      1\u001b[0m \u001b[1;31m# Converting the Image into gray_image\u001b[0m\u001b[1;33m\u001b[0m\u001b[1;33m\u001b[0m\u001b[0m\n\u001b[1;32m----> 2\u001b[1;33m \u001b[0mgray_imag\u001b[0m \u001b[1;33m=\u001b[0m \u001b[0mcv\u001b[0m\u001b[1;33m.\u001b[0m\u001b[0mcvtColor\u001b[0m\u001b[1;33m(\u001b[0m\u001b[0mimage\u001b[0m\u001b[1;33m,\u001b[0m \u001b[0mcv\u001b[0m\u001b[1;33m.\u001b[0m\u001b[0mCOLOR_BGR2GRAY\u001b[0m\u001b[1;33m)\u001b[0m\u001b[1;33m\u001b[0m\u001b[1;33m\u001b[0m\u001b[0m\n\u001b[0m",
      "\u001b[1;31merror\u001b[0m: OpenCV(4.6.0) D:\\a\\opencv-python\\opencv-python\\opencv\\modules\\imgproc\\src\\color.cpp:182: error: (-215:Assertion failed) !_src.empty() in function 'cv::cvtColor'\n"
     ]
    }
   ],
   "source": [
    "# Converting the Image into gray_image\n",
    "gray_imag = cv.cvtColor(image, cv.COLOR_BGR2GRAY)"
   ]
  },
  {
   "cell_type": "code",
   "execution_count": 25,
   "id": "60a95402",
   "metadata": {},
   "outputs": [],
   "source": [
    "cv.imshow(\"gray_image\",gray_image)      # waitKey,destroywindw for not to show error in jupyter notebook(mandatory For imshow)\n",
    "cv.waitKey(0)         #2000-2 ssec  3000-3 sec   if 0,press any key to disappear\n",
    "cv.destroyAllWindows()"
   ]
  },
  {
   "cell_type": "code",
   "execution_count": 7,
   "id": "c10505f0",
   "metadata": {},
   "outputs": [],
   "source": [
    "# Inverting the Imge\n",
    "invert_image = cv.bitwise_not(gray_image)"
   ]
  },
  {
   "cell_type": "code",
   "execution_count": 8,
   "id": "67cd8d29",
   "metadata": {},
   "outputs": [],
   "source": [
    "# Blur Image\n",
    "blur_image = cv.GaussianBlur(invert_image, (21,21), 0)"
   ]
  },
  {
   "cell_type": "code",
   "execution_count": 9,
   "id": "0d657038",
   "metadata": {},
   "outputs": [],
   "source": [
    "# Inverting the Blured Image\n",
    "invert_blur = cv.bitwise_not(blur_image)"
   ]
  },
  {
   "cell_type": "code",
   "execution_count": 10,
   "id": "89a059d6",
   "metadata": {},
   "outputs": [],
   "source": [
    "# Convert Image Into sketch\n",
    "sketch = cv.divide(gray_image, invert_blur, scale=256.0)"
   ]
  },
  {
   "cell_type": "code",
   "execution_count": 12,
   "id": "94f962c6",
   "metadata": {},
   "outputs": [
    {
     "data": {
      "text/plain": [
       "True"
      ]
     },
     "execution_count": 12,
     "metadata": {},
     "output_type": "execute_result"
    }
   ],
   "source": [
    "#Generating the Sketch Image Named as Sketch.png\n",
    "cv.imwrite(\"Sketch4.png\", invert_blur)"
   ]
  },
  {
   "cell_type": "code",
   "execution_count": 14,
   "id": "0362872c",
   "metadata": {},
   "outputs": [],
   "source": [
    "cv.imshow(\"Sketch4.png\", invert_blur)     \n",
    "cv.waitKey(0)        \n",
    "cv.destroyAllWindows()"
   ]
  },
  {
   "cell_type": "code",
   "execution_count": null,
   "id": "1a636e67",
   "metadata": {},
   "outputs": [],
   "source": []
  }
 ],
 "metadata": {
  "kernelspec": {
   "display_name": "Python 3 (ipykernel)",
   "language": "python",
   "name": "python3"
  },
  "language_info": {
   "codemirror_mode": {
    "name": "ipython",
    "version": 3
   },
   "file_extension": ".py",
   "mimetype": "text/x-python",
   "name": "python",
   "nbconvert_exporter": "python",
   "pygments_lexer": "ipython3",
   "version": "3.9.7"
  }
 },
 "nbformat": 4,
 "nbformat_minor": 5
}
